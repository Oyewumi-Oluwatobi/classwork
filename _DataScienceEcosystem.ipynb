{
 "cells": [
  {
   "cell_type": "markdown",
   "id": "7819624d-12cb-46af-87be-65fe5a674b53",
   "metadata": {},
   "source": [
    "#Data Science Tools and Ecosystem "
   ]
  },
  {
   "cell_type": "markdown",
   "id": "1f2779f0-4b71-4a0b-a07e-04f30cda998d",
   "metadata": {},
   "source": [
    "In this notebook, Data Science Tools and Ecosystem are summarized."
   ]
  },
  {
   "cell_type": "markdown",
   "id": "19b7c9fd-4eb8-4f09-a004-9d433efec330",
   "metadata": {},
   "source": [
    "Some of the popular languages that Data Scientists use are:\n",
    "1: Python\n",
    "2: R\n",
    "3: SQL\n",
    "4: Julia\n",
    "5: Java"
   ]
  },
  {
   "cell_type": "markdown",
   "id": "42fa72e8-73c1-4599-82f0-98cf5a85b53e",
   "metadata": {},
   "source": [
    "Some of the commonly used libraries used by Data Scientists include:\n",
    "1: Pandas\n",
    "2: Matplotlib\n",
    "3: Numpy\n",
    "4: Tensorflow\n",
    "5: Scikitlearn"
   ]
  },
  {
   "cell_type": "markdown",
   "id": "848e0e9e-bf21-40b5-8418-76db7d92db8d",
   "metadata": {},
   "source": [
    "Data Science Tools\n",
    "1: Apachespark\n",
    "2: Github\n",
    "3: Rstudio"
   ]
  },
  {
   "cell_type": "markdown",
   "id": "7236373d-2ea5-4966-9076-7cb55c302fc8",
   "metadata": {},
   "source": [
    "Below are a few examples of evaluating arithmetic expressions in Python"
   ]
  },
  {
   "cell_type": "code",
   "execution_count": 1,
   "id": "db5c7ccb-85e9-4369-a809-98960c7eb2b5",
   "metadata": {
    "tags": []
   },
   "outputs": [
    {
     "data": {
      "text/plain": [
       "17"
      ]
     },
     "execution_count": 1,
     "metadata": {},
     "output_type": "execute_result"
    }
   ],
   "source": [
    "#Thisasimplearithmeticexpressiontomutiplythenaddintegers\n",
    "(3*4)+5"
   ]
  },
  {
   "cell_type": "code",
   "execution_count": 11,
   "id": "95d2db1e-9953-4775-9559-eedcd0bc8ebf",
   "metadata": {
    "tags": []
   },
   "outputs": [
    {
     "name": "stdout",
     "output_type": "stream",
     "text": [
      "3.3333333333333335 hours\n"
     ]
    }
   ],
   "source": [
    "#This will convert 200 minutes to hours by diving by 60.\n",
    "x = 200/60\n",
    "print(f'{x} hours')"
   ]
  },
  {
   "cell_type": "markdown",
   "id": "d3229bf4-8abf-4075-9770-3631e6ac2211",
   "metadata": {},
   "source": [
    "Objectives:\n",
    "Some of the popular languages that Data Scientists use\n",
    "Some of the commonly used libraries used by Data Scientists\n",
    "Data Science Tools\n",
    "evaluating arithmetic expressions in Python"
   ]
  },
  {
   "cell_type": "markdown",
   "id": "65bc47d1-b5e3-4f1d-b972-27a34bbc751d",
   "metadata": {},
   "source": [
    "##Author\n",
    "Oyewumi Oluwatobi"
   ]
  }
 ],
 "metadata": {
  "kernelspec": {
   "display_name": "Python",
   "language": "python",
   "name": "conda-env-python-py"
  },
  "language_info": {
   "codemirror_mode": {
    "name": "ipython",
    "version": 3
   },
   "file_extension": ".py",
   "mimetype": "text/x-python",
   "name": "python",
   "nbconvert_exporter": "python",
   "pygments_lexer": "ipython3",
   "version": "3.7.12"
  }
 },
 "nbformat": 4,
 "nbformat_minor": 5
}
